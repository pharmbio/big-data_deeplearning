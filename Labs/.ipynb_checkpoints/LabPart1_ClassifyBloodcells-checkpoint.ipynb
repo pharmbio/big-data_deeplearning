{
 "cells": [
  {
   "cell_type": "markdown",
   "metadata": {},
   "source": [
    "# Deep Learning Lab part 1 Machine Learning, ANN, CNN"
   ]
  },
  {
   "cell_type": "markdown",
   "metadata": {
    "tags": []
   },
   "source": [
    "## Brief\n",
    "Your main task in this lab is to make a network that can categorise bloodcells from the  [Human White Blood Cells (BBBC045v1)](https://bbbc.broadinstitute.org/BBBC045) dataset from the Broad Bioimage Benchmark Collection [Ljosa et al., Nature Methods, 2012]. \n",
    "\n",
    "First you will get some networks to try, and then some new techniques that you will apply to try and improve this network.  \n",
    "\n",
    "*Note: It's not always easy to know from the start what will work, a lot of developing neural networks can feel like qualified guess work. **Qualified** being the key word.*\n",
    "\n",
    "Also take this opportunity to try to understand the code, you may be able to reuse some of it for your assignment in Deep Learning. There will be questions throughout to give you things to consider, but **no hand in is required**. \n",
    "\n",
    "Stop the kernel of your other notebooks while you run this one. \n",
    "\n",
    "### Story (no instructions here)\n",
    "You are working at BestEverLifeScienceCompany, or BELSC, and your boss was recently handed some blood cell data. The amount of blood cells over all, of each type, and the ratio in between are important health markers. (see [Human White Blood Cells (BBBC045v1)](https://bbbc.broadinstitute.org/BBBC045)) It's naturally very time consuming to go through them manually so your boss wants you to present atleast 3 different AI methods, preferably with an above 85% accuracy (1) , and for you to explain what each method does at the meeting on Monday morning at 8. \n",
    "\n",
    "You have a great weekend trip planned, and loads of things to do, so you really only have 2 hours to get as much as possible done. If you're lucky your boss will get stuck in a meeting with their boss again and you'll be able to present at an \"impromptu\" lunch meeting as have been the pattern for the last 4 weeks. (2)\n",
    "\n",
    "* (1) Which you *do not* have to achieve in this lab\n",
    "* (2) I.e. get as far as you can, if you don't finish in 2 hours it's ok to work with this part during the  next session\n",
    "\n",
    "If you do finish part 1 and still have a lot of time left, feel free to start part2. "
   ]
  },
  {
   "cell_type": "markdown",
   "metadata": {},
   "source": [
    "#### Credit\n",
    "A lot of the code below is inspired by https://www.tensorflow.org/guide/keras/functional/,  and labs developed by Christophe Avenel at NBIS, the cnn_helper is from there, but adjusted by me. The lab is also partly built on Phil Harrison's lab for the pharmaceutical bioinformatics and sequence analysis course. I've also added my own parts of the code as well\n",
    "\n",
    "\n",
    "The questions were designed and the tasks modified by Ebba Bergman for Big Data in Life Sciences"
   ]
  },
  {
   "cell_type": "markdown",
   "metadata": {
    "tags": []
   },
   "source": [
    "# Import"
   ]
  },
  {
   "cell_type": "code",
   "execution_count": null,
   "metadata": {},
   "outputs": [],
   "source": [
    "import numpy as np\n",
    "import tensorflow as tf\n",
    "import pandas as pd\n",
    "import IPython\n",
    "from tensorflow import keras\n",
    "from tensorflow.keras import layers\n",
    "import matplotlib.pyplot as plt\n",
    "from sklearn.metrics import confusion_matrix\n",
    "from sklearn.preprocessing import StandardScaler\n",
    "from sklearn.linear_model import LogisticRegression\n",
    "from datetime import datetime\n",
    "import cv2\n",
    "import os\n",
    "\n",
    "from tensorflow.keras.preprocessing.image import ImageDataGenerator\n",
    "\n",
    "import cnn_helper\n",
    "import plot_helper\n",
    "\n",
    "from IPython.display import display, HTML"
   ]
  },
  {
   "cell_type": "code",
   "execution_count": null,
   "metadata": {
    "tags": []
   },
   "outputs": [],
   "source": [
    "from importlib.machinery import SourceFileLoader\n",
    "HOME_PATH = \"/home/jovyan/\"\n",
    "\n",
    "cnn_helper = SourceFileLoader(\"cnn_helper\", \"cnn_helper.py\").load_module()\n",
    "plot_helper = SourceFileLoader(\"plot_helper\",\"plot_helper.py\").load_module()"
   ]
  },
  {
   "cell_type": "code",
   "execution_count": null,
   "metadata": {},
   "outputs": [],
   "source": [
    "# Configure GPUs\n",
    "print(\"Num GPUs Available: \", len(tf.config.list_physical_devices('GPU')))\n",
    "gpus = tf.config.list_physical_devices('GPU')\n",
    "if gpus:\n",
    "  try:\n",
    "    # Currently, memory growth needs to be the same across GPUs\n",
    "    for gpu in gpus:\n",
    "      tf.config.experimental.set_memory_growth(gpu, True)\n",
    "      print(\"Done setting memory_growth\")\n",
    "    logical_gpus = tf.config.list_logical_devices('GPU')\n",
    "    print(len(gpus), \"Physical GPUs,\", len(logical_gpus), \"Logical GPUs\")\n",
    "  except Exception as e:\n",
    "    # Memory growth must be set before GPUs have been initialized\n",
    "    print(\"If you get this , probably done already\")\n",
    "    # Catch the exception and display a custom HTML message with red text\n",
    "    message = \"\"\"There was some problems setting up the GPU,\n",
    "                 it is probably best to restart kernel and clear\n",
    "                 all outputs before starting over\n",
    "              \"\"\"\n",
    "    display(HTML(f\"<div style='color: red;'><strong>Warning:</strong>{message}</div>\"))\n",
    "    print(e)"
   ]
  },
  {
   "cell_type": "markdown",
   "metadata": {},
   "source": [
    "# Paths"
   ]
  },
  {
   "cell_type": "code",
   "execution_count": null,
   "metadata": {},
   "outputs": [],
   "source": [
    "current_directory = os.getcwd()\n",
    "print(current_directory)"
   ]
  },
  {
   "cell_type": "code",
   "execution_count": null,
   "metadata": {
    "tags": []
   },
   "outputs": [],
   "source": [
    "base_directory = \"\" # add the full path before /Labs here, make sure to add a / at the end"
   ]
  },
  {
   "cell_type": "code",
   "execution_count": null,
   "metadata": {},
   "outputs": [],
   "source": [
    "## Set up where to find our data\n",
    "zipped_data = base_directory + \"ZippedLabData/bloodcells_small.tar.gz\"\n",
    "data_directory = base_directory + \"LabData/bloodcells_small/data/\"\n",
    "labels_path = base_directory + \"LabData/bloodcells_small/labels.csv\""
   ]
  },
  {
   "cell_type": "markdown",
   "metadata": {},
   "source": [
    "# Functions\n",
    "\n",
    "Don't worry about the functions, they'll make more sense later. Just keep moving along."
   ]
  },
  {
   "cell_type": "code",
   "execution_count": null,
   "metadata": {},
   "outputs": [],
   "source": [
    "def start_time():\n",
    "    print(\"Starting run at: \" + str(datetime.now()))\n",
    "\n",
    "def end_time():\n",
    "    print(\"Run finished at: \" + str(datetime.now()))\n",
    "    \n",
    "def get_image_data_flat_from_file(data_directory, image_paths):\n",
    "    file_names = image_paths.values.flatten() # Assumes image_paths come in df[image_path_column_name] structure due to lab\n",
    "    image_data = np.array([np.array(cv2.imread(data_directory + file_name)) for file_name in file_names])\n",
    "    flattened_image_data = image_data.reshape(image_data.shape[0], -1)\n",
    "    return flattened_image_data"
   ]
  },
  {
   "cell_type": "markdown",
   "metadata": {},
   "source": [
    "# Exctract Data"
   ]
  },
  {
   "cell_type": "code",
   "execution_count": null,
   "metadata": {},
   "outputs": [],
   "source": [
    "print(current_directory)"
   ]
  },
  {
   "cell_type": "markdown",
   "metadata": {},
   "source": [
    "This will be done in a terminal, you can see all instructions here: https://www.cyberciti.biz/faq/howto-extract-tar-file-to-specific-directory-on-unixlinux/ \n",
    "\n",
    "But the **commands you need** are:\n",
    "\n",
    "cd [the path to the bigData directory given above]\n",
    "\n",
    "mkdir LabData\n",
    "\n",
    "tar xf ZippedLabData/bloodcells_small.tar.gz -C LabData\n",
    "\n"
   ]
  },
  {
   "cell_type": "markdown",
   "metadata": {},
   "source": [
    "**check that the files have been extracted into LabData/bloodcells_small/**"
   ]
  },
  {
   "cell_type": "markdown",
   "metadata": {},
   "source": [
    "# Data\n",
    "\n",
    "Let's load and then look at the labels and our data."
   ]
  },
  {
   "cell_type": "code",
   "execution_count": null,
   "metadata": {},
   "outputs": [],
   "source": [
    "df_labels = pd.read_csv(labels_path) "
   ]
  },
  {
   "cell_type": "markdown",
   "metadata": {},
   "source": [
    "<details>\n",
    "<summary>\n",
    "<font size=\"3\" color=\"green\">\n",
    "<b>If the data isn't loading<code><font size=\"4\">you get a big read square ending with \"[Errno 2] No such file or directory: \"</font></code></b>\n",
    "</font>\n",
    "</summary>\n",
    "\n",
    "go back to your terminal, step into the bloodcells_small folder and execute this command:\n",
    "\n",
    "chmod +rwx labels.csv \n",
    "\n",
    "You may need to restart the kernel for this notebook inorder for the notebook to know that the file is accessible.\n",
    "</details>\n",
    "\n"
   ]
  },
  {
   "cell_type": "markdown",
   "metadata": {},
   "source": [
    "<details>\n",
    "<summary>\n",
    "<font size=\"3\" color=\"green\">\n",
    "<b>Data frames <code><font size=\"4\">explanation</font></code></b>\n",
    "</font>\n",
    "</summary>\n",
    "\n",
    "These cells allows text to be hidden. I'll write explanations here if you want them, but do try to think of the answer to questions first.\n",
    "\n",
    "df: This is a dataframe, a way to look at data as tables.\n",
    "Google \"Python pandas dataframe\" to get more information, or to find new commands as you need.\n",
    " Anything you can do with data frames you could do with loops and numpy, but it is sometimes easier to read and write code with dataframes and a lot of data analysts use them.\n",
    "\n",
    "</details>\n"
   ]
  },
  {
   "cell_type": "code",
   "execution_count": null,
   "metadata": {},
   "outputs": [],
   "source": [
    "df_labels.head()"
   ]
  },
  {
   "cell_type": "code",
   "execution_count": null,
   "metadata": {},
   "outputs": [],
   "source": [
    "df_labels.shape"
   ]
  },
  {
   "cell_type": "markdown",
   "metadata": {},
   "source": [
    "### Q: Look at the labels, which column do you think contains the true label?"
   ]
  },
  {
   "cell_type": "markdown",
   "metadata": {},
   "source": [
    "To see how many different labels we have, assign the true_label_column the correct name, and run the cells"
   ]
  },
  {
   "cell_type": "code",
   "execution_count": null,
   "metadata": {},
   "outputs": [],
   "source": [
    "true_label_column = \"\""
   ]
  },
  {
   "cell_type": "code",
   "execution_count": null,
   "metadata": {},
   "outputs": [],
   "source": [
    "df_labels[true_label_column].unique()"
   ]
  },
  {
   "cell_type": "code",
   "execution_count": null,
   "metadata": {},
   "outputs": [],
   "source": [
    "df_labels[true_label_column].value_counts()"
   ]
  },
  {
   "cell_type": "markdown",
   "metadata": {},
   "source": [
    "### Q: Which label has the smallest amount of datapoints?"
   ]
  },
  {
   "cell_type": "markdown",
   "metadata": {},
   "source": [
    "## Look at a sample of the images\n",
    "\n",
    "Let's look at the images - always a good start to the project.\\\n",
    "Here random images will be displayed, run this several time to see different images\n",
    "\n",
    "The plotting functions are in plot_helper.py in this directory if you want to look at them."
   ]
  },
  {
   "cell_type": "code",
   "execution_count": null,
   "metadata": {},
   "outputs": [],
   "source": [
    "file_column = \"\" ## Enter the name of the file names column\n",
    "plot_helper.show_random_images(data_directory, df_labels, file_column)"
   ]
  },
  {
   "cell_type": "markdown",
   "metadata": {},
   "source": [
    "### Q: Can you see any difference between the classes? \n",
    "### Q: Do you think a human being able to see the difference between classes makes it an easier or more difficult problem for a neural network? Or does it not matter at all?"
   ]
  },
  {
   "cell_type": "markdown",
   "metadata": {},
   "source": [
    "## Divide into training, validation and test set"
   ]
  },
  {
   "cell_type": "markdown",
   "metadata": {
    "tags": []
   },
   "source": [
    "### Q: Why do we need 3 sets? In other machine learning we usually use 2?"
   ]
  },
  {
   "cell_type": "markdown",
   "metadata": {},
   "source": [
    "<details>\n",
    "<summary>\n",
    "<font size=\"3\" color=\"green\">\n",
    "<b>Data sets <code><font size=\"4\">explanation  </font></code></b>\n",
    "</font>\n",
    "</summary>\n",
    "\n",
    "So what we always try to do is make a model and then evaluate it on data it has never seen before. \n",
    "This is the first split, training vs test, which you've probably seen a lot before.\n",
    "\n",
    "In Deep Learning we *can* use that split, but it is much, much more common to do a training, validation, test split.\n",
    "\n",
    "The extra validation set let's us \"test\" the model as we train it. Based on that we can then see trends in how the model learns, and use that to improve the model as we train or at end of training. Early stopping is one such example where the model that performed best on the validation set, which the model has not been trained on, is chosen. It is then tested with the \"test\" set. \n",
    "\n",
    "### Q:Why can't we just use the test set to stop training?\n",
    "</details>"
   ]
  },
  {
   "cell_type": "code",
   "execution_count": null,
   "metadata": {},
   "outputs": [],
   "source": [
    "## Next, let's divide the filtered rows into a train, validation and a test set. \n",
    "class_column_header = \"Class\"\n",
    "df_labels_to_use = df_labels.copy() #We're copying the df_labels so that you can look at the original again later if you want\n",
    "\n",
    "test_set_fraction = 0.1\n",
    "validation_set_fraction = 0.2"
   ]
  },
  {
   "cell_type": "code",
   "execution_count": null,
   "metadata": {},
   "outputs": [],
   "source": [
    "df_test = df_labels_to_use.groupby(class_column_header).sample(frac = test_set_fraction)\n",
    "df_to_use = pd.concat([df_labels_to_use, df_test, df_test]).drop_duplicates(keep=False) # This line finds the intersection between df_filtered and df_test and df_test and dropps anything that belongs to two of those, so we are left with df_train. Using only df_test once should be fine, but better safe than sorry\n",
    "df_validation = df_labels_to_use.groupby(class_column_header).sample(frac = validation_set_fraction)\n",
    "df_train = pd.concat([df_labels_to_use, df_validation, df_validation]).drop_duplicates(keep=False) "
   ]
  },
  {
   "cell_type": "code",
   "execution_count": null,
   "metadata": {},
   "outputs": [],
   "source": [
    "print(df_test.head())"
   ]
  },
  {
   "cell_type": "markdown",
   "metadata": {},
   "source": [
    "### Question: How many bloodcells of type T is there in the test dataset?"
   ]
  },
  {
   "cell_type": "code",
   "execution_count": null,
   "metadata": {},
   "outputs": [],
   "source": [
    "## Write your code here"
   ]
  },
  {
   "cell_type": "markdown",
   "metadata": {},
   "source": [
    "# Models"
   ]
  },
  {
   "cell_type": "markdown",
   "metadata": {
    "tags": []
   },
   "source": [
    "# Logistic Regression"
   ]
  },
  {
   "cell_type": "markdown",
   "metadata": {},
   "source": [
    "**Assignment**  Make a traditional machine learning model to compare to the ANN.\n",
    "\n",
    "Read more about Logistic regression here: https://www.javatpoint.com/logistic-regression-in-machine-learning\n",
    "#### Q: Can you see a simmilarity between Logistic Regression and any part of the ANN? Think back to the lecture."
   ]
  },
  {
   "cell_type": "code",
   "execution_count": null,
   "metadata": {},
   "outputs": [],
   "source": [
    "df_lr_test = pd.concat([df_validation, df_test])\n",
    "lr_x_test = get_image_data_flat_from_file(data_directory, df_lr_test[file_column])\n",
    "lr_x_test.shape"
   ]
  },
  {
   "cell_type": "code",
   "execution_count": null,
   "metadata": {},
   "outputs": [],
   "source": [
    "lr_y_test = df_lr_test[true_label_column]\n",
    "lr_y_test.shape"
   ]
  },
  {
   "cell_type": "code",
   "execution_count": null,
   "metadata": {},
   "outputs": [],
   "source": [
    "df_train.shape"
   ]
  },
  {
   "cell_type": "code",
   "execution_count": null,
   "metadata": {
    "tags": []
   },
   "outputs": [],
   "source": [
    "lr_x_train = get_image_data_flat_from_file(data_directory, df_train[file_column])\n",
    "lr_x_train.shape"
   ]
  },
  {
   "cell_type": "code",
   "execution_count": null,
   "metadata": {},
   "outputs": [],
   "source": [
    "lr_y_train = df_train[true_label_column]\n",
    "lr_y_train.shape"
   ]
  },
  {
   "cell_type": "code",
   "execution_count": null,
   "metadata": {},
   "outputs": [],
   "source": [
    "# Normalise to unit variance\n",
    "scaler = StandardScaler().fit(lr_x_train)\n",
    "lr_x_train = scaler.transform(lr_x_train)\n",
    "lr_x_test = scaler.transform(lr_x_test)"
   ]
  },
  {
   "cell_type": "code",
   "execution_count": null,
   "metadata": {},
   "outputs": [],
   "source": [
    "start_time()\n",
    "LR_model  = LogisticRegression(multi_class = \"multinomial\",max_iter = 20)\n",
    "LR_model.fit(lr_x_train, lr_y_train)\n",
    "end_time()"
   ]
  },
  {
   "cell_type": "markdown",
   "metadata": {},
   "source": [
    "<details>\n",
    "<summary>\n",
    "<font size=\"3\" color=\"green\">\n",
    "<b>Help <code><font size=\"4\"> If Logistic Regression takes a long time  </font></code></b>\n",
    "</font>\n",
    "</summary>\n",
    "This is not a great dataset for logistic regression (LR). Can you figure out why this is the chosen model for this task to compare to NN anyways? Hint: it's not because it's bad.\n",
    "\n",
    "If you figured that out and the LR still isn't done, keep reading ahead and see ifyou understand the next tasks. The LR took 4.5 minutes for me to run with 100 iterations. Then I tried 200 iterations and it took 3.5 minutes. Timeestimations can be very inexact, especially as we run on kernels that also have other jobs qued up   \n",
    "\n",
    "Here we've set it to 20, hopefully that will be quicker. \n",
    "</details>"
   ]
  },
  {
   "cell_type": "markdown",
   "metadata": {},
   "source": [
    "<details>\n",
    "<summary>\n",
    "<font size=\"3\" color=\"green\">\n",
    "<b>Help <code><font size=\"4\"> If a red box with warnings appears  </font></code></b>\n",
    "</font>\n",
    "</summary>\n",
    " If your model doesn't converge here, that's to be expected. We'd probably need to finetune this model, or this might not be a problem suitable for this model.  But we're not going to focus on that now, since we are focusing on Neural Networks. A fair amount of the fin tuning we do to neural networks we can apply to all machine learning, more about that in lecture 2.\n",
    " \n",
    " Let's now see how well this method did out of the box.\n",
    "</details>"
   ]
  },
  {
   "cell_type": "code",
   "execution_count": null,
   "metadata": {},
   "outputs": [],
   "source": [
    "LR_pred = LR_model.predict(lr_x_test)\n",
    "LR_score = LR_model.score(lr_x_test, lr_y_test)\n",
    "print('Logistic Regression: accuracy = ' + str(np.round(LR_score, 3)))"
   ]
  },
  {
   "cell_type": "code",
   "execution_count": null,
   "metadata": {},
   "outputs": [],
   "source": [
    "class_labels = df_train[true_label_column].unique()\n",
    "cm = confusion_matrix(lr_y_test, LR_pred, labels  = class_labels, normalize = \"true\")\n",
    "plot_helper.plot_confusion_matrix(cm, classes = class_labels, title = \"LR Confustion Matrix\" )\n"
   ]
  },
  {
   "cell_type": "markdown",
   "metadata": {},
   "source": [
    "#### Q: Which two classes were most often confused with each other?\n"
   ]
  },
  {
   "cell_type": "markdown",
   "metadata": {},
   "source": [
    "## A simple Multi Layer Perceptron (MLP)\n",
    "\n",
    "You get the first MLP written out, in the next sections you'll need to write your own models."
   ]
  },
  {
   "cell_type": "markdown",
   "metadata": {},
   "source": [
    "### Model Architecture\n",
    "\n",
    "**Concep**\n",
    "The architecture of a network is basically the blue print of the network. That is the combination of how many nodes in how many layers. The architecture is a key part of the desing of a neural network, and one thing to change if you want to get better results.\n",
    "\n",
    "But we have to start somewhere"
   ]
  },
  {
   "cell_type": "code",
   "execution_count": null,
   "metadata": {},
   "outputs": [],
   "source": [
    "## Set up the model architecture\n",
    "inputs = keras.Input(shape= (32,32,1))\n",
    "x = layers.Flatten()(inputs)\n",
    "x = layers.Dense(7, activation=\"relu\")(x)\n",
    "outputs = layers.Dense(5, activation=\"softmax\")(x)"
   ]
  },
  {
   "cell_type": "code",
   "execution_count": null,
   "metadata": {},
   "outputs": [],
   "source": [
    "## Define the model as a keras model\n",
    "ann_model = keras.Model(inputs=inputs, outputs=outputs, name=\"ann_model\")"
   ]
  },
  {
   "cell_type": "markdown",
   "metadata": {
    "tags": []
   },
   "source": [
    "### Q: Why is the input shape the way it is?"
   ]
  },
  {
   "cell_type": "markdown",
   "metadata": {
    "tags": []
   },
   "source": [
    "### Q: How many layers do we have?\n",
    "\n",
    "\n",
    "<details>\n",
    "<summary>\n",
    "<font size=\"3\" color=\"green\">\n",
    "<b>Layers <code><font size=\"4\"> theory vs programming  </font></code></b>\n",
    "</font>\n",
    "</summary>\n",
    "\n",
    "Usually we only count layers of neurons when we talk about Neural Networks. \n",
    "\n",
    "So we do not count the input layer as a proper layer as it does not contain any neurons nor parameters nor does anything to the input (it basically *is* the input).\n",
    "\n",
    "In this case we also have a *Flatten* layer, which takes a 2D structure and makes a 1D structure as we talked about in the lecture. This also isn't actualy a layer of neurons and so we won't count that either. \n",
    "\n",
    "I would say we have 2 layers.One output layer, and one hidden layer.\n",
    "\n",
    "Others might say 3 or even 4, but they're increasingly wrong with the numbers of layers they add. \n",
    "\n",
    "</details>\n",
    "\n"
   ]
  },
  {
   "cell_type": "markdown",
   "metadata": {},
   "source": [
    "#### Architecture Summary "
   ]
  },
  {
   "cell_type": "code",
   "execution_count": null,
   "metadata": {},
   "outputs": [],
   "source": [
    "ann_model.summary()"
   ]
  },
  {
   "cell_type": "markdown",
   "metadata": {
    "tags": []
   },
   "source": [
    "### Question: How do you get the number of parameters for the output layer? \n",
    "\n",
    "**Hint:**  Some people find it helpful to draw the network using pen and paper"
   ]
  },
  {
   "cell_type": "markdown",
   "metadata": {
    "tags": []
   },
   "source": [
    "### Training\n",
    "\n",
    "Now that we have our model, all of our parameters are randomized. To make the model better than random we need to train the model. \n",
    "\n",
    "#### Q: What would be the \"best\" accuracy you could expect from the network without it having learned anything?\n",
    "\n",
    "<details>\n",
    "<summary>\n",
    "<font size=\"3\" color=\"green\">\n",
    "<b>Ebba's thoughts<code><font size=\"4\">first accuracy</font></code></b>\n",
    "</font>\n",
    "</summary>\n",
    "It is almost impossible to know the accuracy without having done similar things with similar images before, so I would not expect to know at this point.\n",
    "\n",
    "    \n",
    "What I would do is calculate what would signify as a random accuracy or the best accuracy possible if the network only guesses at 1 class for all of the images. For 5 classes inuitively it's 20% accuracy, but it will ofcourse depend on the distribution of the classes. If we have 3 classes A, B, and C, and class A has 100 images, B 50 images, and C 50 images, then I'd be causious of a 50% accuracy as the network could simply be guessing class A for every result. \n",
    "</details>"
   ]
  },
  {
   "cell_type": "markdown",
   "metadata": {},
   "source": [
    "For more information on the ImageDataGenerator see: https://www.tensorflow.org/api_docs/python/tf/keras/preprocessing/image/ImageDataGenerator"
   ]
  },
  {
   "cell_type": "code",
   "execution_count": null,
   "metadata": {},
   "outputs": [],
   "source": [
    "## Set up generators that specify how the images are loaded, how many at a time (batch size),\n",
    "## that the images should be shuffled should be shuffled etc.\n",
    "batch_size = 8\n",
    "\n",
    "image_shape = (32,32)\n",
    "filename_column = 'Filenames'\n",
    "true_label_column = \"Class\"\n",
    "# create a data generator\n",
    "\n",
    "## Note: we tend to get better results if the values of the pixels are between 0 and 1, \n",
    "#so we need a rescale of 1/255 since the highest possible pixel value for these images are 255\n",
    "train_data_generator = keras.preprocessing.image.ImageDataGenerator(rescale=1./255, samplewise_center=True, samplewise_std_normalization=True)\n",
    "valid_data_generator = keras.preprocessing.image.ImageDataGenerator(rescale=1./255, samplewise_center=True, samplewise_std_normalization=True)\n",
    "test_data_generator = keras.preprocessing.image.ImageDataGenerator(rescale=1./255, samplewise_center=True, samplewise_std_normalization=True)\n",
    "\n",
    "train_generator = train_data_generator.flow_from_dataframe(\n",
    "    df_train, directory=data_directory, x_col=filename_column, y_col=true_label_column,\n",
    "    weight_col=None, class_mode='categorical', batch_size=batch_size, target_size = image_shape,  color_mode='grayscale' ,shuffle=True,\n",
    ")\n",
    "\n",
    "valid_generator = valid_data_generator.flow_from_dataframe(\n",
    "    df_validation, directory=data_directory, x_col=filename_column, y_col=true_label_column,\n",
    "    weight_col=None, class_mode='categorical', batch_size=batch_size, target_size = image_shape,  color_mode='grayscale' , shuffle=False,\n",
    ")\n",
    "\n",
    "\n",
    "test_generator = test_data_generator.flow_from_dataframe(\n",
    "    df_test, directory=data_directory, x_col=filename_column, y_col=true_label_column,\n",
    "    weight_col=None,class_mode='categorical', batch_size=batch_size, target_size = image_shape,  color_mode='grayscale' , shuffle=False,\n",
    ")\n",
    "\n",
    "\n",
    "train_steps = train_generator.n//train_generator.batch_size if train_generator.n >= train_generator.batch_size else 1\n",
    "validation_steps = valid_generator.n//valid_generator.batch_size if valid_generator.n >= valid_generator.batch_size else 1\n",
    "\n"
   ]
  },
  {
   "cell_type": "code",
   "execution_count": null,
   "metadata": {},
   "outputs": [],
   "source": [
    "## Compile model\n",
    "## Don't worry about the details here yet\n",
    "ann_model.compile(optimizer=keras.optimizers.Adam(), loss='categorical_crossentropy', metrics = ['accuracy'])"
   ]
  },
  {
   "cell_type": "code",
   "execution_count": null,
   "metadata": {
    "tags": []
   },
   "outputs": [],
   "source": [
    "## Actually train model\n",
    "## Don't worry about the details here yet\n",
    "\n",
    "start_time()\n",
    "epochs = 5\n",
    "history = ann_model.fit(x=train_generator,\n",
    "                    steps_per_epoch= train_steps,\n",
    "                    validation_data= valid_generator,\n",
    "                    validation_steps= validation_steps,\n",
    "                    epochs= epochs\n",
    "        )\n",
    "end_time()"
   ]
  },
  {
   "cell_type": "markdown",
   "metadata": {},
   "source": [
    "<details>\n",
    "<summary>\n",
    "<font size=\"3\" color=\"green\">\n",
    "<b>Help <code><font size=\"4\"> If a red box with warnings appears  </font></code></b>\n",
    "</font>\n",
    "</summary>\n",
    " This is a deprecation issue, and yes I (Ebba) should update the code before it breaks, but it's not broken yet and there were more important things to get done for this course. It runs, it's all fine.   \n",
    "    \n",
    " In general: unless existing code gets an Error, don't worry about it. If your code gets a new kind of warning, double check that it's ok before you proceed.\n",
    "</details>"
   ]
  },
  {
   "cell_type": "code",
   "execution_count": null,
   "metadata": {},
   "outputs": [],
   "source": [
    "## Plot results\n",
    "results = plot_helper.plot_history(history, \"ANN\")"
   ]
  },
  {
   "cell_type": "markdown",
   "metadata": {},
   "source": [
    "### Q: How did you do? \n",
    "### Q: What do the curves tell you? "
   ]
  },
  {
   "cell_type": "code",
   "execution_count": null,
   "metadata": {},
   "outputs": [],
   "source": [
    "# plot confusion matrix\n",
    "cnn_helper.plot_confusion_matrix_from_generator(ann_model, valid_generator)\n",
    "\n"
   ]
  },
  {
   "cell_type": "markdown",
   "metadata": {
    "tags": []
   },
   "source": [
    "### Q: Which class was easiest to predict? Which was the most difficult to predict?"
   ]
  },
  {
   "cell_type": "markdown",
   "metadata": {},
   "source": [
    "So now that we have made our first simple model, let's see how it compares to a linear regression\n"
   ]
  },
  {
   "cell_type": "markdown",
   "metadata": {
    "tags": []
   },
   "source": [
    "### Q: Which worked better, your small ANN or the Linear regression?"
   ]
  },
  {
   "attachments": {
    "0282c7c6-d1c0-4bfb-b502-3102e0797a85.png": {
     "image/png": "[encoded data removed]"
    }
   },
   "cell_type": "markdown",
   "metadata": {},
   "source": [
    "### A longer LR training session\n",
    "\n",
    "This is a Logistic Regression that ran for 200 iterations (i.e. 10 times longer than yours). \n",
    "![LR_bloodcells_200it.png](attachment:0282c7c6-d1c0-4bfb-b502-3102e0797a85.png) \n",
    "\n",
    "### Q: How does this result compare to your small ANN?"
   ]
  },
  {
   "cell_type": "markdown",
   "metadata": {},
   "source": [
    "# Visualise a layer"
   ]
  },
  {
   "cell_type": "markdown",
   "metadata": {},
   "source": [
    "For fun, let's look at the weights in the first dense layer. Visualising your data can be a good way to see what is going wrong as well as where the difficulties might be."
   ]
  },
  {
   "cell_type": "markdown",
   "metadata": {},
   "source": [
    "**As you saw in the lecture the MLP works with vectors (rows of numbers), so let's visualise the weights as that.** The x-axis will be the position of the weight (i.e. w1,w2 etc.) The color will be the size of the weight\n"
   ]
  },
  {
   "cell_type": "code",
   "execution_count": null,
   "metadata": {},
   "outputs": [],
   "source": [
    "weights, bias = ann_model.layers[2].get_weights()\n"
   ]
  },
  {
   "cell_type": "code",
   "execution_count": null,
   "metadata": {
    "tags": []
   },
   "outputs": [],
   "source": [
    "weights.shape\n"
   ]
  },
  {
   "cell_type": "code",
   "execution_count": null,
   "metadata": {},
   "outputs": [],
   "source": [
    "plot_helper.plot_layer_weights(weights)"
   ]
  },
  {
   "cell_type": "markdown",
   "metadata": {},
   "source": [
    "### Q: Do you think that the network is doing a good job recognizing the blood cells based on this visualisation?"
   ]
  },
  {
   "cell_type": "markdown",
   "metadata": {},
   "source": [
    "Now, we do know that we're actually woring with 2D data, so let's see if it will make more sense to our human eyes if we visualise it as such."
   ]
  },
  {
   "cell_type": "code",
   "execution_count": null,
   "metadata": {},
   "outputs": [],
   "source": [
    "plot_helper.plot_layer_weights(weights, visualize_in_2d= True)"
   ]
  },
  {
   "cell_type": "markdown",
   "metadata": {},
   "source": [
    "Here the higher values are represented by yelow, lower by dark blue. This is a heatmap visualisation. \n",
    "### Q: Do you think that the network is doing a good job recognizing the blood cells based on this visualisation?"
   ]
  },
  {
   "cell_type": "markdown",
   "metadata": {},
   "source": [
    "So now we have a model. It does something, we can see that it recognises different type of blood cells. How can we make it even better? In many, many ways. But let's start with how we can change the model we have set up."
   ]
  },
  {
   "cell_type": "markdown",
   "metadata": {},
   "source": [
    "# Epochs and batches"
   ]
  },
  {
   "cell_type": "markdown",
   "metadata": {},
   "source": [
    "Good explanation of epochs and batches: https://machine-learning.paperspace.com/wiki/epoch\n",
    "\n",
    "But basically:\n",
    "\n",
    "A **batch** is the training examples that are forward propageted before we backpropagate. This lets us get overall trends in how we should adjust our parameters (weights and biases). If we back propagated after every single forward propagation it would both take longer to train the network and make the model fit more to individual data points instead of overall trends. \n",
    "\n",
    "**Batch size** is how many examples (images) that we have in a batch\n",
    "\n",
    "**Epoch**: When all the training data has been forward propagated and back propagated we have trained for one epoch. So if we have 10 batches then we have run 2 epochs after 20 batches. So more epochs == more training\n",
    "\n"
   ]
  },
  {
   "attachments": {
    "b3ff386c-a557-41d6-ab74-88a92273f96d.png": {
     "image/png": "[encoded data removed]"
    }
   },
   "cell_type": "markdown",
   "metadata": {},
   "source": [
    "Take another look at your ANN results above. They might look something like these curves below. See how they are continuing to improve until the end? This means that if we trained them for longer we'd probably get even better results. ![more_training_needed.png](attachment:b3ff386c-a557-41d6-ab74-88a92273f96d.png)\n",
    "\n",
    "**Assignment** Try training your ANN for another 10 epochs."
   ]
  },
  {
   "cell_type": "code",
   "execution_count": null,
   "metadata": {
    "tags": []
   },
   "outputs": [],
   "source": [
    "## Keep training the model\n",
    "\n",
    "epochs = 10\n",
    "start_time()\n",
    "history = ann_model.fit(x=train_generator,\n",
    "                    steps_per_epoch= train_steps,\n",
    "                    validation_data= valid_generator,\n",
    "                    validation_steps= validation_steps,\n",
    "                    epochs= epochs\n",
    "        )\n",
    "end_time()"
   ]
  },
  {
   "cell_type": "code",
   "execution_count": null,
   "metadata": {},
   "outputs": [],
   "source": [
    "## Plot results\n",
    "plot_helper.plot_history(history, \"ANN, 15 epochs, last 10 epochs shown\")"
   ]
  },
  {
   "cell_type": "code",
   "execution_count": null,
   "metadata": {},
   "outputs": [],
   "source": [
    "# plot confusion matrix\n",
    "cnn_helper.plot_confusion_matrix_from_generator(ann_model, valid_generator)"
   ]
  },
  {
   "cell_type": "markdown",
   "metadata": {},
   "source": [
    "#### Q: Did your results improve?"
   ]
  },
  {
   "cell_type": "markdown",
   "metadata": {},
   "source": [
    "**Assignment** Train your model for another 10 epochs You can read ahead while you wait for this to run"
   ]
  },
  {
   "cell_type": "code",
   "execution_count": null,
   "metadata": {},
   "outputs": [],
   "source": [
    "## Actually train model\n",
    "## Don't worry about the details here yet\n",
    "\n",
    "epochs = 10\n",
    "start_time()\n",
    "history = ann_model.fit(x=train_generator,\n",
    "                    steps_per_epoch= train_steps,\n",
    "                    validation_data= valid_generator,\n",
    "                    validation_steps= validation_steps,\n",
    "                    epochs= epochs\n",
    "        )\n",
    "end_time()"
   ]
  },
  {
   "cell_type": "code",
   "execution_count": null,
   "metadata": {},
   "outputs": [],
   "source": [
    "## Plot results\n",
    "plot_helper.plot_history(history, \"ANN, 25 epochs, last 10 shown\")"
   ]
  },
  {
   "cell_type": "code",
   "execution_count": null,
   "metadata": {},
   "outputs": [],
   "source": [
    "# plot confusion matrix\n",
    "cnn_helper.plot_confusion_matrix_from_generator(ann_model, valid_generator)"
   ]
  },
  {
   "cell_type": "markdown",
   "metadata": {},
   "source": [
    "#### Q: What happened to your results now?"
   ]
  },
  {
   "cell_type": "markdown",
   "metadata": {
    "tags": []
   },
   "source": [
    "**Note** Waiting for things to run is unproductive during a lab, so  <span style=\"color:red\"> **train with 5 epochs for the remainder of the lab** </span> "
   ]
  },
  {
   "cell_type": "markdown",
   "metadata": {},
   "source": [
    "# Expanding the model"
   ]
  },
  {
   "cell_type": "markdown",
   "metadata": {
    "tags": []
   },
   "source": [
    "## Make a new, longer ANN\n",
    "\n",
    "**Assignment** Base your ANN on the ANN above. Add atleast another dense layer, making it so that the new layer after the input layer has atleast 10 nodes. You may add even more, and wider, layers if you like. Keep the last layer before the output layer as a 7 node layer.\n",
    "\n",
    "### Q: How many parameters will your layer have?\n",
    "### Q: How will your new layers affect how many parameters the output layer has? Why?"
   ]
  },
  {
   "cell_type": "markdown",
   "metadata": {
    "tags": []
   },
   "source": [
    "### Q: How did you do? What do the curves tell you? \n"
   ]
  },
  {
   "cell_type": "code",
   "execution_count": null,
   "metadata": {},
   "outputs": [],
   "source": [
    "# plot confusion matrix\n",
    "cnn_helper.plot_confusion_matrix_from_generator(ann_model, valid_generator)"
   ]
  },
  {
   "cell_type": "markdown",
   "metadata": {},
   "source": [
    "### Q: Which class was easiest to predict? Which was the most difficult to predict?\n"
   ]
  },
  {
   "cell_type": "markdown",
   "metadata": {},
   "source": [
    "# CNN"
   ]
  },
  {
   "cell_type": "markdown",
   "metadata": {},
   "source": [
    "Let's try a simple CNN next. \n",
    "### Q: Do you think a CNN will have better results than an MLP?"
   ]
  },
  {
   "cell_type": "markdown",
   "metadata": {},
   "source": [
    "### Q: What are the biggest differences between how an MLP and a CNN treats the data?"
   ]
  },
  {
   "cell_type": "code",
   "execution_count": null,
   "metadata": {},
   "outputs": [],
   "source": [
    "## Set up the model architecture\n",
    "# See https://www.tensorflow.org/guide/keras/functional/ if you want to see the documentation\n",
    "\n",
    "cnn_inputs = keras.Input(shape=(32,32,1))\n",
    "x = layers.Conv2D(1, kernel_size=(3, 3), strides=1,padding='same')(cnn_inputs)\n",
    "x = layers.MaxPooling2D(pool_size=(2, 2))(x)\n",
    "x = layers.Flatten()(x)\n",
    "cnn_outputs = layers.Dense(5, activation='softmax')(x)"
   ]
  },
  {
   "cell_type": "markdown",
   "metadata": {},
   "source": [
    "### Some basic CNN concepts\n",
    " <span style=\"color:red\"> You may be asked questions on the exam that assumes you know and can provide the definition of the words in bold below or any other new information introduced during the labs. </span> \n",
    "\n",
    "Conv2D is a convolution in 2 dimensions. As you saw in the lecture during a convolution we move a filter across the image, doing some basic math on all the numbers the filter touches and putting it into a new square (pixel) in our new \"image\". This resulting image is called a **filter map**\n",
    "\n",
    "A **kernel** is the same as a filter in this context (Tip: stackexchange usually gives quick answers if you're wondering about something, but should never be used as a reference in a scientific context\n",
    "https://stats.stackexchange.com/questions/154798/difference-between-kernel-and-filter-in-cnn)\n",
    "\n",
    "The **kernel size** is therefore the same as the filter size, here 3x3.  \n",
    "\n",
    "**strides** is how many steps or pixels the filter will move at a time. In the stack exchange above you can see a gif of a filter moving 1 pixel. Filters will move left to right, up to down, same as your eyes reading this text. \n",
    "\n",
    "**padding** notice how the pixel in the top left corner will only be used once for calculations in the example in the lecture (and the gif above)? This means that corners will have less input on the final result. To change this we can add rows of numbers around the original image/filter map so that each value in the image gets used the same number of times. \n",
    "\n",
    "Also note that if we do not padd the output of a convolution is always smaller than the input. By using padding = Same the colvolution output size will be the same as the input size.  (https://www.tensorflow.org/api_docs/python/tf/pad) \n",
    "\n",
    "**Pooling** If we keep having the same size output as input but generating more filter map outputs than we have inputs (why do we do this?) we will quickly get a large amount of data, i.e. a lot of math to do which means training will take longer and require more data. In these filtermaps there might be a lot of superflous pixels that do not add more information. So to concentrate the information we use pooling. This is another matrix that will move across the filtermap but the stride will always be the same as the matrix so no pixel is touched twice.\n",
    "(see the first diagram here https://indiantechwarrior.com/how-to-work-with-cnn-max-pooling-layers-in-tensorflow/) \n",
    "\n",
    "**Max pooling** will take the biggest number and put it into the new filtermap.\n",
    "**Average pooling** will take the average of the numbers and put it into a new filtermap.\n",
    "\n",
    "https://www.tensorflow.org/api_docs/python/tf/keras/layers/MaxPool2D \n"
   ]
  },
  {
   "cell_type": "markdown",
   "metadata": {},
   "source": [
    "### Q: Why has the .Flatten()(x) layer moved in the CNN compared to the ANN?"
   ]
  },
  {
   "cell_type": "code",
   "execution_count": null,
   "metadata": {},
   "outputs": [],
   "source": [
    "## Define the model as a keras model\n",
    "cnn_model = keras.Model(inputs=cnn_inputs, outputs=cnn_outputs, name=\"cnn_Model_1\")"
   ]
  },
  {
   "cell_type": "code",
   "execution_count": null,
   "metadata": {},
   "outputs": [],
   "source": [
    "## We'll use the same generators as above here, so no need to redefine them\n",
    "## compile model\n",
    "\n",
    "cnn_model.compile(optimizer=keras.optimizers.Adam(), loss='categorical_crossentropy', metrics = ['accuracy'])\n",
    "cnn_model.summary()"
   ]
  },
  {
   "cell_type": "code",
   "execution_count": null,
   "metadata": {},
   "outputs": [],
   "source": [
    "## Actually train model\n",
    "epochs = 5\n",
    "history = cnn_model.fit(x=train_generator,\n",
    "                    steps_per_epoch= train_steps,\n",
    "                    validation_data= valid_generator,\n",
    "                    validation_steps= validation_steps,\n",
    "                    epochs= epochs\n",
    "        )"
   ]
  },
  {
   "cell_type": "code",
   "execution_count": null,
   "metadata": {},
   "outputs": [],
   "source": [
    "## Plot results\n",
    "plot_helper.plot_history(history, \"CNN\")"
   ]
  },
  {
   "cell_type": "markdown",
   "metadata": {},
   "source": [
    "### Question: How is your model fiting? "
   ]
  },
  {
   "cell_type": "code",
   "execution_count": null,
   "metadata": {},
   "outputs": [],
   "source": [
    "# plot confusion matrix\n",
    "cnn_helper.plot_confusion_matrix_from_generator(cnn_model, valid_generator)"
   ]
  },
  {
   "cell_type": "markdown",
   "metadata": {},
   "source": [
    "### Q: How many parameters did you have in the ANN vs in the CNN?"
   ]
  },
  {
   "cell_type": "markdown",
   "metadata": {},
   "source": [
    "### Q: What networked performed best for you? Did the results differ for any of the classes between the ANN and CNN?\n",
    "\n"
   ]
  },
  {
   "cell_type": "markdown",
   "metadata": {},
   "source": [
    "<details>\n",
    "<summary>\n",
    "<font size=\"3\" color=\"green\">\n",
    "<b>Expand this after trying to answer the question above<code><font size=\"4\">ANN vs CNN</font></code></b>\n",
    "</font>\n",
    "</summary>\n",
    "Likely the MLP outperformed the CNN. Usually we expect a convolutional neural network to perform better than a MLP when working with images. This is because images are *atleast* 2D structures, and information can be in many places in the images. \n",
    "\n",
    "Why then did the ANN outperform the CNN in this case? Think about the data, does the placement of the information vary a lot in the images?    \n",
    "    \n",
    "</details>"
   ]
  },
  {
   "cell_type": "markdown",
   "metadata": {},
   "source": [
    "# Expanding the models"
   ]
  },
  {
   "cell_type": "markdown",
   "metadata": {},
   "source": [
    "## Deeper models\n"
   ]
  },
  {
   "cell_type": "markdown",
   "metadata": {},
   "source": [
    "As you already saw with the ANN, sometimes a deeper model and/or a more complex model, can be helpful. Try adding some more convolution layers and pooling layers to the model. Try changing the filter sizes, and the number of filters as well.\n",
    "\n",
    "More information about the convolutional layer can be found here: https://keras.io/api/layers/convolution_layers/convolution2d/, maxpooling here: https://keras.io/api/layers/pooling_layers/max_pooling2d/, and a different kind of way of making models can be found here: https://www.tensorflow.org/tutorials/images/cnn  and here https://www.tensorflow.org/tutorials/quickstart/advanced"
   ]
  },
  {
   "cell_type": "markdown",
   "metadata": {},
   "source": [
    "## Make your model below"
   ]
  },
  {
   "cell_type": "markdown",
   "metadata": {},
   "source": [
    "## Test the model"
   ]
  },
  {
   "cell_type": "code",
   "execution_count": null,
   "metadata": {},
   "outputs": [],
   "source": [
    "cnn_model.evaluate(test_generator)"
   ]
  },
  {
   "cell_type": "code",
   "execution_count": null,
   "metadata": {},
   "outputs": [],
   "source": [
    "cnn_helper.plot_confusion_matrix_from_generator(cnn_model, test_generator)"
   ]
  },
  {
   "cell_type": "markdown",
   "metadata": {},
   "source": [
    "## If you have a lot of time left in the lab (15 minutes or more): Move on to the next part\n"
   ]
  },
  {
   "cell_type": "markdown",
   "metadata": {
    "tags": []
   },
   "source": [
    "## Hints about Jupyter notebooks"
   ]
  },
  {
   "cell_type": "markdown",
   "metadata": {
    "tags": []
   },
   "source": [
    "#### HINT: You can comment out a whole cell by selecting all and then do ctr + / or cmnd + / \n",
    "#### You can then add another cell with the + button next to the save button at the top of this notebook's tool bar.\n",
    "#### You can of course also keep adding cells and copying all the relevant code, making and saving new models. Whatever is easiest for you is best here."
   ]
  }
 ],
 "metadata": {
  "kernelspec": {
   "display_name": "Python 3 (ipykernel)",
   "language": "python",
   "name": "python3"
  },
  "language_info": {
   "codemirror_mode": {
    "name": "ipython",
    "version": 3
   },
   "file_extension": ".py",
   "mimetype": "text/x-python",
   "name": "python",
   "nbconvert_exporter": "python",
   "pygments_lexer": "ipython3",
   "version": "3.8.10"
  },
  "widgets": {
   "application/vnd.jupyter.widget-state+json": {
    "state": {},
    "version_major": 2,
    "version_minor": 0
   }
  }
 },
 "nbformat": 4,
 "nbformat_minor": 4
}
