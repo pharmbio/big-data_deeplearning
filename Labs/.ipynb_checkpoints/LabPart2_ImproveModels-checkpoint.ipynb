{
 "cells": [
  {
   "cell_type": "markdown",
   "metadata": {},
   "source": [
    "# Lab part 2 Improving the models"
   ]
  },
  {
   "cell_type": "markdown",
   "metadata": {},
   "source": [
    "By Ebba Bergman, 2023"
   ]
  },
  {
   "cell_type": "markdown",
   "metadata": {
    "jp-MarkdownHeadingCollapsed": true,
    "tags": []
   },
   "source": [
    "## Note on Questions\n",
    "In this notebook you will try several things, some of them might be new to you. Try to understand what the new techniques could improve in each case. Reflect to see if you can see these improvements and if not think about why. I might add additional questions, but always keep in mind: **What** then **How** and always, always ***Why***\n",
    "\n",
    "Stop the kernel of your other notebooks while you run this one. "
   ]
  },
  {
   "cell_type": "markdown",
   "metadata": {
    "tags": []
   },
   "source": [
    "## Brief\n",
    "Your main task in this lab is to make a network that can categorise bloodcells from the  [Human White Blood Cells (BBBC045v1)](https://bbbc.broadinstitute.org/BBBC045) dataset from the Broad Bioimage Benchmark Collection [Ljosa et al., Nature Methods, 2012]. \n",
    "\n",
    "In the first part of this lab you got some networks to try. In this part we will explore some new techniques that you will apply to try and improve this network.  \n",
    "\n",
    "*Note: It's not always easy to know from the start what will work, a lot of developing neural networks can feel like qualified guess work. **Qualified** being the key word.*\n",
    "\n",
    "Also take this opportunity to try to understand the code, you may be able to reuse some of it for your assignment in Deep Learning. There will be questions throughout to give you things to consider, but **no hand in is required**. \n",
    "\n",
    "\n",
    "### Story\n",
    "You are working at BestEverLifeScienceCompany, or BELSC, and your boss was recently handed some blood cell data. You've managed to classify the blood cells, finding the CNN model to be the most useful. You ran into your boss in the corridor, who's thrilled it's possible to do this (which you already knew) but your boss isn't entirely happy wiht the results and wants you to improve the networks to a 99% accuracy.\n",
    "\n",
    "You wisely tell your boss that you cannot guarantee any accuracy, but that you can use some methods to try and improve the results so that your boss can show your bosses boss that there's hope for this project on their next meeting on Tuesday. Thankfully your boss cancel all your future meetings together so you can focus on this task. So one, they cancelled one meeting. \n",
    "\n",
    "If you finish quickly your boss has some other datasets that need your attention, and the corporate conference is on Tuesday the 16th of May so all results need to be done by the 15th of May. \n",
    "\n",
    "You promise to do as much as you can, and your boss makes sure that you know that the first dataset definetly needs to be done, but the other one could earn both of you bonus points before the final evaluation of this season.\n",
    "\n",
    "### So\n",
    "1. finish this lab and make sure you understand it (*you will need this information at some point*)\n",
    "2. Once you're done start on the assignment"
   ]
  },
  {
   "cell_type": "markdown",
   "metadata": {},
   "source": [
    "#### Credit\n",
    "A lot of the code below is inspired by https://www.tensorflow.org/guide/keras/functional/,  and labs developed by Christophe Avenel at NBIS, the cnn_helper is from there though adjusted by me. The lab is also partly built on Phil Harrison's lab for the pharmaceutical bioinformatics and sequence analysis course.\n",
    "\n",
    "The questions and tasks were designed by Ebba Bergman for Big Data in Life Sciences"
   ]
  },
  {
   "cell_type": "markdown",
   "metadata": {
    "tags": []
   },
   "source": [
    "# Import"
   ]
  },
  {
   "cell_type": "code",
   "execution_count": null,
   "metadata": {},
   "outputs": [],
   "source": [
    "import numpy as np\n",
    "import tensorflow as tf\n",
    "import pandas as pd\n",
    "import IPython\n",
    "from tensorflow import keras\n",
    "from tensorflow.keras import layers\n",
    "import matplotlib.pyplot as plt\n",
    "from sklearn.metrics import confusion_matrix\n",
    "from sklearn.preprocessing import StandardScaler\n",
    "from sklearn.linear_model import LogisticRegression\n",
    "from datetime import datetime\n",
    "import cv2\n",
    "\n",
    "from tensorflow.keras.preprocessing.image import ImageDataGenerator\n",
    "\n",
    "import cnn_helper\n",
    "import plot_helper"
   ]
  },
  {
   "cell_type": "markdown",
   "metadata": {},
   "source": [
    "# Settings "
   ]
  },
  {
   "cell_type": "code",
   "execution_count": null,
   "metadata": {},
   "outputs": [],
   "source": [
    "## Set up where to find our data\n",
    "data_directory = \"./data/BloodCells/bloodcells_small/data/\"\n",
    "labels_path =  \"./data/BloodCells/bloodcells_small/labels.csv\""
   ]
  },
  {
   "cell_type": "markdown",
   "metadata": {},
   "source": [
    "# Functions\n",
    "\n",
    "Don't worry about the functions, they'll make more sense later. Just keep moving along."
   ]
  },
  {
   "cell_type": "code",
   "execution_count": null,
   "metadata": {},
   "outputs": [],
   "source": [
    "def start_time():\n",
    "    print(\"Starting run at: \" + str(datetime.now()))\n",
    "\n",
    "def end_time():\n",
    "    print(\"Run finished at: \" + str(datetime.now()))\n",
    "    \n",
    "def get_image_data_flat_from_file(data_directory, image_paths):\n",
    "    file_names = image_paths.values.flatten() # Assumes image_paths come in df[image_path_column_name] structure due to lab\n",
    "    image_data = np.array([np.array(cv2.imread(data_directory + file_name)) for file_name in file_names])\n",
    "    flattened_image_data = image_data.reshape(image_data.shape[0], -1)\n",
    "    return flattened_image_data"
   ]
  },
  {
   "cell_type": "markdown",
   "metadata": {},
   "source": [
    "# Data"
   ]
  },
  {
   "cell_type": "code",
   "execution_count": null,
   "metadata": {},
   "outputs": [],
   "source": [
    "df_labels = pd.read_csv(labels_path)"
   ]
  },
  {
   "cell_type": "code",
   "execution_count": null,
   "metadata": {},
   "outputs": [],
   "source": [
    "## Next, let's divide the filtered rows into a train, validation and a test set. \n",
    "class_column_header = \"Class\"\n",
    "df_labels_to_use = df_labels.copy() #We're copying the df_labels so that you can look at the original again later if you want\n",
    "\n",
    "test_set_fraction = 0.1\n",
    "validation_set_fraction = 0.2"
   ]
  },
  {
   "cell_type": "code",
   "execution_count": null,
   "metadata": {},
   "outputs": [],
   "source": [
    "df_test = df_labels_to_use.groupby(class_column_header).sample(frac = test_set_fraction)\n",
    "df_to_use = pd.concat([df_labels_to_use, df_test, df_test]).drop_duplicates(keep=False) # This line finds the intersection between df_filtered and df_test and df_test and dropps anything that belongs to two of those, so we are left with df_train. Using only df_test once should be fine, but better safe than sorry\n",
    "df_validation = df_labels_to_use.groupby(class_column_header).sample(frac = validation_set_fraction)\n",
    "df_train = pd.concat([df_labels_to_use, df_validation, df_validation]).drop_duplicates(keep=False) "
   ]
  },
  {
   "cell_type": "markdown",
   "metadata": {},
   "source": [
    "Let's load and then look at the labels and our data."
   ]
  },
  {
   "cell_type": "code",
   "execution_count": null,
   "metadata": {},
   "outputs": [],
   "source": [
    "print(df_test.head())"
   ]
  },
  {
   "cell_type": "code",
   "execution_count": null,
   "metadata": {},
   "outputs": [],
   "source": [
    "df_labels = pd.read_csv(labels_path) "
   ]
  },
  {
   "cell_type": "code",
   "execution_count": null,
   "metadata": {},
   "outputs": [],
   "source": [
    "df_labels.head()"
   ]
  },
  {
   "cell_type": "code",
   "execution_count": null,
   "metadata": {},
   "outputs": [],
   "source": [
    "df_labels.shape"
   ]
  },
  {
   "cell_type": "markdown",
   "metadata": {
    "jp-MarkdownHeadingCollapsed": true,
    "tags": []
   },
   "source": [
    "### Q: Look at the labels, which column do you think contains the true label? Hint: it's probably the same as in part1"
   ]
  },
  {
   "cell_type": "markdown",
   "metadata": {},
   "source": [
    "## Data Augmentation"
   ]
  },
  {
   "cell_type": "markdown",
   "metadata": {},
   "source": [
    "\n",
    "Let's try to improve the network. One thing that is often done for CNNs and other NNs is data agumentation. Data augmentation basically means that we randomly alter the incoming images in different ways to make sure that the network can handle those types of variations.\n",
    "\n",
    "If you want to read more you can look at this article, especially the \"Data Augmentations based on basic image manipulations Geometric transformations\" is of interest here: https://journalofbigdata.springeropen.com/articles/10.1186/s40537-019-0197-0\n",
    "\n",
    "See https://www.tensorflow.org/api_docs/python/tf/keras/preprocessing/image/ImageDataGenerator for things you can try by adding input paramters to the ImageDataGenerator().\n"
   ]
  },
  {
   "cell_type": "markdown",
   "metadata": {},
   "source": [
    "Update the cell below to  **include data augmentations, only in the training data generator then retrain the best version of your CNN again**"
   ]
  },
  {
   "cell_type": "code",
   "execution_count": null,
   "metadata": {},
   "outputs": [],
   "source": [
    "## Set up generators \n",
    "\n",
    "image_shape = (32,32)\n",
    "filename_column = 'Filenames'\n",
    "true_value = \"Class\"\n",
    "\n",
    "# Hyper parameters\n",
    "batch_size = 8\n",
    "\n",
    "\n",
    "# create a data generator\n",
    "\n",
    "\n",
    "## Note: we tend to get better results if the values of the pixels are between 0 and 1, so we need a rescale of 1/255 since the highest possible pixel value for these images are 255\n",
    "train_data_generator = keras.preprocessing.image.ImageDataGenerator(rescale=1./255, samplewise_center=True, samplewise_std_normalization=True)\n",
    "valid_data_generator = keras.preprocessing.image.ImageDataGenerator(rescale=1./255, samplewise_center=True, samplewise_std_normalization=True)\n",
    "test_data_generator = keras.preprocessing.image.ImageDataGenerator(rescale=1./255, samplewise_center=True, samplewise_std_normalization=True)\n",
    "\n",
    "train_generator = train_data_generator.flow_from_dataframe(\n",
    "    df_train, directory=data_directory, x_col=filename_column, y_col=true_value,\n",
    "    weight_col=None, class_mode='categorical', batch_size=batch_size, target_size = image_shape,  color_mode='grayscale' ,shuffle=True,\n",
    ")\n",
    "\n",
    "valid_generator = valid_data_generator.flow_from_dataframe(\n",
    "    df_validation, directory=data_directory, x_col=filename_column, y_col=true_value,\n",
    "    weight_col=None, class_mode='categorical', batch_size=batch_size, target_size = image_shape,  color_mode='grayscale' , shuffle=False,\n",
    ")\n",
    "\n",
    "\n",
    "test_generator = test_data_generator.flow_from_dataframe(\n",
    "    df_test, directory=data_directory, x_col=filename_column, y_col=true_value,\n",
    "    weight_col=None,class_mode='categorical', batch_size=batch_size, target_size = image_shape,  color_mode='grayscale' , shuffle=False,\n",
    ")\n",
    "\n",
    "\n",
    "train_steps=train_generator.n//train_generator.batch_size if train_generator.n >= train_generator.batch_size else 1\n",
    "validation_steps=valid_generator.n//valid_generator.batch_size if valid_generator.n >= valid_generator.batch_size else 1\n"
   ]
  },
  {
   "cell_type": "code",
   "execution_count": null,
   "metadata": {},
   "outputs": [],
   "source": [
    "## Set up the model architecture\n",
    "### use your best model from part 1, and rename it here to cnn_model_augmented\n",
    "## Then run the model\n",
    "## Then plot the results and show a confusion matrix"
   ]
  },
  {
   "cell_type": "markdown",
   "metadata": {},
   "source": [
    "### Q: Did the data augmentation help? Why or why not? What makes this dataset more or less likely to be helped by data augmentation?\n"
   ]
  },
  {
   "cell_type": "markdown",
   "metadata": {},
   "source": [
    "\n",
    "\n",
    "<details>\n",
    "<summary>\n",
    "<font size=\"3\" color=\"green\">\n",
    "<b>Teacher thoughts <code><font size=\"4\"> Some things to consider</font></code></b>\n",
    "</font>\n",
    "</summary>\n",
    "\n",
    "1. Are the blood cells at random places in the image?\n",
    "    \n",
    "2. Are the blood cells within one class of different sizes?\n",
    "    \n",
    "3. Are there color changes you could compensate for? \n",
    "\n",
    "4. Are the blood cells symetrical? In what ways are they (not) symmetrical?\n",
    "\n",
    "Note: Reflect on which of these you tried to adjust for in your code above.\n",
    "\n",
    "\n",
    "</details>\n"
   ]
  },
  {
   "cell_type": "markdown",
   "metadata": {},
   "source": [
    "## Regularisation methods\n"
   ]
  },
  {
   "cell_type": "markdown",
   "metadata": {},
   "source": [
    "Both BatchNormalization and DropOut are two different regularisation methods. Try adding both to the best working CNN model without data augmentation\n",
    "  \n",
    "Read more about BatchNormalization here: https://keras.io/api/layers/normalization_layers/batch_normalization/\n",
    "Read more about DropOut here:https://keras.io/api/layers/regularization_layers/dropout/"
   ]
  },
  {
   "cell_type": "markdown",
   "metadata": {},
   "source": [
    "### Q:  What are the main similarities and differences between these methods?\n",
    "Batch Normalization actually caps the values based on all of the values, also present during validation and test but then with settings found during training.  \n",
    "Dropout is only used during training, drops nodes from the network by random  \n",
    "Both are regularization methods and good to use to prevent overfitting"
   ]
  },
  {
   "cell_type": "markdown",
   "metadata": {},
   "source": [
    "  **Not using any other improvement methods, try both batch normalization and dropout individually**"
   ]
  },
  {
   "cell_type": "markdown",
   "metadata": {},
   "source": [
    "### Q: Is there such a thing as too much regularisation?"
   ]
  },
  {
   "cell_type": "markdown",
   "metadata": {},
   "source": [
    "# Visualise a layer in your best CNN"
   ]
  },
  {
   "cell_type": "markdown",
   "metadata": {},
   "source": [
    "### Q: What can you understand from just looking at these weights?"
   ]
  },
  {
   "cell_type": "markdown",
   "metadata": {},
   "source": [
    "# Using existing models "
   ]
  },
  {
   "cell_type": "markdown",
   "metadata": {},
   "source": [
    "One great thing to do when making a CNN model is to use an architecture that has worked for simmilar cases. I happen to know that the existing CNN model VGG16 is a good model for these types of images, try that one next."
   ]
  },
  {
   "cell_type": "markdown",
   "metadata": {},
   "source": [
    "There are many way of visualising neural networks, see https://datascience.stackexchange.com/questions/12851/how-do-you-visualize-neural-network-architectures, but here is one for VGG16"
   ]
  },
  {
   "attachments": {
    "cffc5a52-33a1-4b0d-8a41-179218b026e7.png": {
     "image/png": "[encoded data removed]"
    }
   },
   "cell_type": "markdown",
   "metadata": {},
   "source": [
    "![vgg16.png](attachment:cffc5a52-33a1-4b0d-8a41-179218b026e7.png)"
   ]
  },
  {
   "cell_type": "markdown",
   "metadata": {},
   "source": [
    "### VGG16"
   ]
  },
  {
   "cell_type": "code",
   "execution_count": null,
   "metadata": {},
   "outputs": [],
   "source": [
    "vgg_model = keras.applications.VGG16(\n",
    "    include_top=False,\n",
    "    weights=None,\n",
    "    input_shape=(32, 32, 1),\n",
    "    pooling=None,\n",
    ")"
   ]
  },
  {
   "cell_type": "code",
   "execution_count": null,
   "metadata": {},
   "outputs": [],
   "source": [
    "# add new classifier layers\n",
    "flat1 = layers.Flatten()(vgg_model.layers[-1].output) \n",
    "class1 = layers.Dense(1024, activation='relu')(flat1)\n",
    "output = layers.Dense(5, activation='softmax')(class1)"
   ]
  },
  {
   "cell_type": "markdown",
   "metadata": {
    "tags": []
   },
   "source": [
    "### Q: Why did we do *vgg_model.layers[-1].output* ?"
   ]
  },
  {
   "cell_type": "markdown",
   "metadata": {},
   "source": [
    "<details>\n",
    "<summary>\n",
    "<font size=\"3\" color=\"green\">\n",
    "<b>Optional hints for <code><font size=\"4\">question above</font></code></b>\n",
    "</font>\n",
    "</summary>\n",
    "1. What is the original network classifying? \n",
    "\n",
    "2. What do we want to classify? \n",
    "\n",
    "\n",
    "\n",
    "<details>\n",
    "<summary>\n",
    "<font size=\"3\" color=\"green\">\n",
    "<b>Optional hints for <code><font size=\"4\">The hint, if you need it</font></code></b>\n",
    "</font>\n",
    "</summary>\n",
    "1. So how do we remove the previous classification and make the new one? Just like the code above naturally! A flattening layer is almost always followed by a dense layer or two to expand the model, and in a classification model the last layer is always the classification layer.\n",
    "\n",
    "\n",
    "</details>\n",
    "</details>"
   ]
  },
  {
   "cell_type": "code",
   "execution_count": null,
   "metadata": {},
   "outputs": [],
   "source": [
    "vgg_model = keras.Model(inputs=vgg_model.inputs, outputs=output)\n",
    "\n",
    "print (vgg_model.summary())"
   ]
  },
  {
   "cell_type": "markdown",
   "metadata": {},
   "source": [
    "### Q: How many parameters does this model have?"
   ]
  },
  {
   "cell_type": "code",
   "execution_count": null,
   "metadata": {},
   "outputs": [],
   "source": [
    "## Compile the model\n",
    "\n",
    "vgg_model.compile(optimizer=keras.optimizers.Adam(learning_rate=0.0001), loss='categorical_crossentropy', metrics = ['accuracy'])"
   ]
  },
  {
   "cell_type": "code",
   "execution_count": null,
   "metadata": {},
   "outputs": [],
   "source": [
    "## Actually train model\n",
    "epochs = 10\n",
    "history = vgg_model.fit_generator(generator=train_generator,\n",
    "                    steps_per_epoch= train_steps,\n",
    "                    validation_data= valid_generator,\n",
    "                    validation_steps= validation_steps,\n",
    "                    epochs= epochs\n",
    "        )"
   ]
  },
  {
   "cell_type": "code",
   "execution_count": null,
   "metadata": {},
   "outputs": [],
   "source": [
    "## Plot results\n",
    "plot_helper.plot_history(history, \"VGG16\")"
   ]
  },
  {
   "cell_type": "code",
   "execution_count": null,
   "metadata": {},
   "outputs": [],
   "source": [
    "# plot confusion matrix\n",
    "cnn_helper.plot_confusion_matrix_from_generator(vgg_model, valid_generator)"
   ]
  },
  {
   "cell_type": "markdown",
   "metadata": {},
   "source": [
    "### Q: What is your worst performing class in this classifier? Is it the same as in the other models?\n",
    "### Q: Is the VGG 16 outperforming your previous models? What are you looking at to determine this?\n",
    "### Q: Is there any other metric you would prefer to use for this model?"
   ]
  },
  {
   "cell_type": "markdown",
   "metadata": {},
   "source": [
    "# Finally test your best model"
   ]
  },
  {
   "cell_type": "markdown",
   "metadata": {},
   "source": [
    "### Q: How is your test set performing compared to your training and validation sets? Why?"
   ]
  },
  {
   "cell_type": "markdown",
   "metadata": {},
   "source": [
    "  \n",
    "  \n",
    "  \n",
    "## The lab is done! Good job getting this far, and understanding what you are doing!  \n",
    "\n",
    "## Now you have the opportunity to look at some other interesting things or to move on to the assignment. Use your time wisely!\n",
    "    \n",
    "    "
   ]
  },
  {
   "cell_type": "markdown",
   "metadata": {},
   "source": [
    "# Optional\n",
    "\n",
    "Try other optimizers, activation functions, learning rates, batch sizes or number of epochs. Which would you like to try first and why?"
   ]
  },
  {
   "cell_type": "markdown",
   "metadata": {},
   "source": [
    "## Optional\n",
    "\n",
    "Try using different proportions for training, validation and test. How does this affect your results? Why?"
   ]
  },
  {
   "cell_type": "markdown",
   "metadata": {},
   "source": [
    "# Optional\n",
    "\n",
    "Try and make a neural network with no convolutions that perform as well as the VGG16."
   ]
  },
  {
   "cell_type": "markdown",
   "metadata": {
    "tags": []
   },
   "source": [
    "## Hints about Jupyter notebooks"
   ]
  },
  {
   "cell_type": "markdown",
   "metadata": {
    "tags": []
   },
   "source": [
    "#### HINT: You can comment out a whole cell by selecting all and then do ctr + / or cmnd + / \n",
    "#### You can then add another cell with the + button next to the save button at the top of this notebook's tool bar.\n",
    "#### You can of course also keep adding cells and copying all the relevant code, making and saving new models. Whatever is easiest for you is best here."
   ]
  },
  {
   "cell_type": "code",
   "execution_count": null,
   "metadata": {},
   "outputs": [],
   "source": []
  }
 ],
 "metadata": {
  "kernelspec": {
   "display_name": "Python 3 (ipykernel)",
   "language": "python",
   "name": "python3"
  },
  "language_info": {
   "codemirror_mode": {
    "name": "ipython",
    "version": 3
   },
   "file_extension": ".py",
   "mimetype": "text/x-python",
   "name": "python",
   "nbconvert_exporter": "python",
   "pygments_lexer": "ipython3",
   "version": "3.8.10"
  }
 },
 "nbformat": 4,
 "nbformat_minor": 4
}
