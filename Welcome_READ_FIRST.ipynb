{
 "cells": [
  {
   "cell_type": "markdown",
   "metadata": {},
   "source": [
    "# Welcome"
   ]
  },
  {
   "cell_type": "markdown",
   "metadata": {},
   "source": [
    "Welcome to the portion of the deep learning week where we actually get to use a computer. You'll quickly notice that my notebooks contain a fair amount of text and questions. In the assignments you will have to hand in answers for the questions, but not for the lab. The questions are there to help you reflect on what you are learning.\n",
    "\n",
    "I'll try to put important information in red or bold so that you can skim the rest, but I cannot guarantee that I will never forget to put the red-code around important text. \n",
    "\n",
    "**If you get stuck, reading the instructions again is a good first step.**\n",
    "\n",
    "**Always feel free to ask any teacher for help.** Be aware that the teacher might ask you to read the instructions if you have not already done so.\n",
    "\n",
    "**There's no mandatory attendance for any lab, lecture or assignment session for the deep learning part of this course** Attending them will probably speed up your progress, but it's your decision how to handle your own time.\n",
    "\n",
    "**You can always skip the \"Story\" section** of the notebooks, they're a fair amount of text and contain absolutely no new information. The story is just for fun.\n",
    "\n",
    "**Alway read the \"Brief\".**\n",
    "\n",
    "New theory will be introduced as part of the labs, and may not be covered in the lecture. If you have questions about this theory make sure to ask during the lab or in the lecture. Studium is an excellent place, as it helps every student in the course. If those options aren't available, feel free to email your questions to me at ebba.b.bergman@uu.se\n",
    "\n",
    "<span style=\"color:red;font-weight:bold;\"> The exam may contain questions based on the theory presented only in the lab/notebooks.  </span>\n"
   ]
  },
  {
   "cell_type": "markdown",
   "metadata": {},
   "source": [
    "## DISCLAIMER: A Note about Notebooks in Big Data research\n",
    "For any real projects most prefer to use a plain script. Python is still the most popular language within Deep Learning, and it's what you'll use in these notebooks.\n",
    "\n",
    "For a learning environment notebooks are quite good as it gives you an easy way to rerun only parts of the code, allows easy visual outputs as we go and allows me to write text in between the code that is quite distinct.\n",
    "\n",
    "However the text is useless if you don't <span style=\"color:red\"> **read** the text </span>. At some point in every lab, however well designed, all students will want help at the same time. So let's avoid uneccesary waiting times and read the text. I'll try to put important details in bold so you can skim, but if things stop working do return to the text to make sure you didn't miss anything"
   ]
  },
  {
   "cell_type": "markdown",
   "metadata": {},
   "source": [
    "## Which labs when?\n",
    "You are a diverse group of students, previous years there have been everyone from those who are far from comfortable with programming to those who have already taken a full Deep Learning course. It's very difficult to make one lab that takes the same amount of time for every one. \n",
    "\n",
    "So if you finish early, feel free to move on to the next lab or assignment. \n",
    "\n",
    "If you are getting stressed about \"everyone\" else moving faster than you: no worries, it's still very likely that you'll finish this part of the course just fine. **Not starting from the same place as someone else does not indicate how well you'll do in this field**, learning takes time and some of your class mates have already spent that time before this course. \n",
    "\n",
    "I might encourage you to move along to another part of the lab if we end up discussing something for a long time because sometimes anyone (including me) can get hung up on something that really won't matter in a day or makes perfect sense after a break. If a question does still feel important after a break feel free to come back to me with the exact same question. Very often the concept that's difficult to grasp will be present throughout the lab and assignments so things might even click in the next section of the lab. \n",
    "\n",
    "Don't take that to mean you shouldn't try and understand the lab or ask for help. You should do both! "
   ]
  }
 ],
 "metadata": {
  "kernelspec": {
   "display_name": "Python 3 (ipykernel)",
   "language": "python",
   "name": "python3"
  },
  "language_info": {
   "codemirror_mode": {
    "name": "ipython",
    "version": 3
   },
   "file_extension": ".py",
   "mimetype": "text/x-python",
   "name": "python",
   "nbconvert_exporter": "python",
   "pygments_lexer": "ipython3",
   "version": "3.8.10"
  }
 },
 "nbformat": 4,
 "nbformat_minor": 4
}
