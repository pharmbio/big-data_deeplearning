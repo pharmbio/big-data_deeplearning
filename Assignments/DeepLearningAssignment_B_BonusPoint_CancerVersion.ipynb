{
 "cells": [
  {
   "cell_type": "markdown",
   "metadata": {},
   "source": [
    "# Assignment 3 part 2 "
   ]
  },
  {
   "cell_type": "markdown",
   "metadata": {},
   "source": [
    "## Task HPV slides"
   ]
  },
  {
   "cell_type": "markdown",
   "metadata": {},
   "source": [
    "Using the HPV dataset I want you to design a model that can detect if a sample is from a tumor or not. \n",
    "\n",
    "Choose a neural network you think will work and try to get above 80% accuracy\n",
    "\n",
    "Choose a neural network you do not think will work, run it atleast once. \n",
    "\n",
    "None of the neworks can be a Multi Layer Perceptron.\n",
    "\n",
    "There's a whole thesis written based on this dataset, available here: http://uu.diva-portal.org/smash/get/diva2:1650957/FULLTEXT01.pdf . The thesis then resulted in a paper: https://openaccess.thecvf.com/content_ICCV_2017_workshops/w1/html/Wieslander_Deep_Convolutional_Neural_ICCV_2017_paper.html \n",
    "\n",
    "**You are not allowed to use the exact same network and configurations as in these texts, or as in your hand in for the mandatory assignment, but you are allowed to use the same base network if you are using transfer learning.**  \n",
    "\n",
    "You may discuss theory with other groups, but not code nor share code. You may not use ChatGPT4 or similar programs to generate a solution or code.\n",
    "\n",
    " <span style=\"color:red\"> Solutions deemed to similar will be run through a program designed to detect coding plagirism and if flagged you will be reported for plagirism. </span> \n",
    " \n",
    " One hand in by the group.\n",
    "\n",
    "## Hand-in\n",
    "\n",
    "To get the bonus point you need to turn in a runable notebook that contains:\n",
    "1. A 1-5 scentence motivation of why you chose your networks with references to sources describing the network type.  \n",
    "\n",
    "2. a) A neural network that gets atleast an 80% accuracy   \n",
    "   \n",
    "    b) If you do not reach this whithin a reasonable time frame; the network you have and a well motivated analysis of what could be done differently to improve the accuracy of your model. (Atleast 3 improvement strategies, 1-5 paragraphs) These cannot be the same strategies you used in the mandatory assignment. \n",
    "\n",
    "\n",
    "3. A badly performing network run atleast once. Motivate why this network was not as good a choice as the one you choose. Include references to the source of the network if you're using a pre existing network (1 paragraph)\n",
    "\n",
    "The first, good neural network is the focus of this bonus assignment and you will choose how to best allocate your time\n",
    "\n",
    "For the bad network I wouldn't recommend spending more than an hour on this unless you really, really want.\n",
    "\n",
    "4. Evaluate your best network using atleast 3 metrics and discuss their differences/similarities in relation to your results.  (1-3 paragraphs)\n",
    "\n",
    "Optional: Make a leave-one-out analysis of your best network to show that you weren't simply lucky in how you divided your data set. \n",
    "\n",
    "## Bonus points\n",
    "1 bonus point: 1, 2 a *or* b, and 3 all answered correctly \n",
    "1 bonus point: 4 answered and discussed\n",
    "\n",
    "So for 2 bonus points: 1, 2a *or* 2b, 3, 4 all answered correctly "
   ]
  },
  {
   "cell_type": "markdown",
   "metadata": {},
   "source": [
    "## \"I have some questions about the instructions\"\n",
    "\n",
    "Once you've started to ask yourself questions about the task, read the below and if questions remain ask any TA or me during any lesson or lab. \n",
    "\n",
    "**Wait, where's the code?** ***Nowhere*** , you'll design this solution all on your own ***as per feedback from last years course evaluation. Your answers on the course evaluation will be incorporated into next years teaching, so do fill out the course evaluation***. Do make sure your solution is clear and be extremely clear and indicate when you're answering questions. Make a new notebook. \n",
    "\n",
    "**The thesis is 80 pages long. How are we supposed to read this *and* do the assignment?** I do not expect you to read the full thesis, the article on the other hand is 8 pages which you could atleast skim.\n",
    "\n",
    "**How do I make a new notebook?** Ask any TA or lecturer. If it turns out to be very difficult for a student to generate a notebook in the environment just continue below the answers here. Write a solution header to indicate the start of your code. \n"
   ]
  },
  {
   "cell_type": "markdown",
   "metadata": {},
   "source": [
    "**What is a reasonable time frame?**: You decide. I'd say atleast 4 hours to conclude part 2 successfully, around 1 hour for part 3, but it is your education and you decide how much time to spend on this part. This is for 1 bonus point and more of a challenge than the other assignment. I do not think most groups will be able to make a network that reaches 88%, depending on the classes they choose, nor do I expect all groups to attempt this bonus part. \n",
    "\n",
    "**Can we work with other groups?**: You may discuss theory, but not code nor share code. Solutions deemed to similar will be run through a program designed to detect coding plagirism and if flagged you will be reported for plagirism. \n",
    "\n",
    "**This is so much fun, can we turn in more than 2 networks?**: Turn in one notebook containing only what is asked for and I will grade this. If time allows (and I do find this fun so it's very likely that time will allow) I will give you feedback on your other choices as well. While limiting your answers to only what is asked for is good practice for the exam, if you want to explore things further in a seperate notebook feel free. \n",
    "\n",
    "\n",
    "(*If you're reading this and wondering why I think this question and clarification is needed it's because I've (happily) run into this in the past. I appreciate that some people enjoy their education to the point of exploring beyond the assignments, and I understand that some people have too many things to get done to do everything fun. So you do you.*)"
   ]
  },
  {
   "cell_type": "markdown",
   "metadata": {},
   "source": [
    "**We've tried so hard and we can't get a good result!:** I'm guessing you've spent a fair amount of time on this. Write what you think would work if you had more time, and if you've tried all strategies you can think of pick 3 and describe them and hand that in with the network. \n",
    "\n",
    "\n",
    "**We are split, some of us want to give up, but some don't** Have you spent atleast 2.5 hours on task 2a? Then you can consider yourself done with that part. Move on to 2b. \n",
    "\n",
    "**We don't want to give up!** If you feel like moving on to part 2b is giving up, think of it more like practicing for a job: Some employers will just want you to get things done, some employers want you to spend just a bit of time on something and if it turns out to be a much bigger task than expected then the resource (your time) needed to get it done might not be worth the possible gain of getting it done.  \n",
    "\n",
    "Turning in possible solution strategies might be appreciated. Managing your time is an important life skill. (Do not ask any phd-student for advice on this though and expect us to do what we say, we're not always good role models.)"
   ]
  },
  {
   "cell_type": "markdown",
   "metadata": {},
   "source": [
    "**How long is a paragraph?** Preferably around this answers lenght. Punctuation is appreciated, here and in the exam. I've tried to write 1-5 scentences to indicate lenght, but I'd rather have many short sentences than 1 long one. If your scentence is more than 2 lines it needs a punctuation. *(Do as I say, not as I do. I do try to do as I say)*\n",
    "\n",
    "**We got more than 88%! Do we have to write extra improvement strategies?**: Good job! Absolutely not. If you really, *really*, want feedback on them then include them. \n",
    "\n",
    "**Do we have to be able to do this assignment to pass the exam?** This assignment builds on theory from the lectures, and I do expect you to understand the theory for the exam. However, this part is purposefully a more difficult assignment and your ability to complete this will not determine wheter or not you'll pass the deep learning part of the exam.\n",
    "\n",
    "**These runs take forever!** I'd like to remind you that my runs take up to 60 hours. However when I'm prototyping I'm not running the full k-folds I do when I properly test the model, so it only takes around 20 minutes. Is there anything you can do to speed up your runs? While the program runs find something else to do, like planning the rest of your solution or reviewing what you've learned in deep learning so far.  "
   ]
  },
  {
   "cell_type": "code",
   "execution_count": null,
   "metadata": {},
   "outputs": [],
   "source": []
  }
 ],
 "metadata": {
  "kernelspec": {
   "display_name": "Python 3 (ipykernel)",
   "language": "python",
   "name": "python3"
  },
  "language_info": {
   "codemirror_mode": {
    "name": "ipython",
    "version": 3
   },
   "file_extension": ".py",
   "mimetype": "text/x-python",
   "name": "python",
   "nbconvert_exporter": "python",
   "pygments_lexer": "ipython3",
   "version": "3.8.10"
  }
 },
 "nbformat": 4,
 "nbformat_minor": 4
}
