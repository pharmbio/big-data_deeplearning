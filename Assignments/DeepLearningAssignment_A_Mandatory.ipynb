{
 "cells": [
  {
   "cell_type": "markdown",
   "metadata": {},
   "source": [
    "# Deep Learning Assignment A"
   ]
  },
  {
   "cell_type": "markdown",
   "metadata": {},
   "source": [
    "## Mandatory\n",
    "The completion and passing of this assignment A is *mandatory* for you passing the course. You will not get any bonus points for any part of this Assignment. \n",
    "\n",
    "What you need to do:\n",
    "Hand in functioning networks. \n",
    "Answer all the questions in the notebook consicely and correctly.\n",
    "\n",
    "You may discuss theory with other groups, but not code nor share code. You may not use ChatGPT4 or similar programs to generate a solution or code.\n",
    "\n",
    " <span style=\"color:red\"> Solutions deemed to similar will be run through a program designed to detect coding plagirism and if flagged you will be reported for plagirism. </span> \n",
    " \n",
    " One hand in by the group. Works handed in after the deadline will be corrected at my leisure, which may very well be after the summer vacation. Same goes for works that do not pass on the first try and need a second hand-in for the group to pass the course.\n",
    " \n",
    " If you want to switch groups do so before starting the assignment. **Make sure you are all agreed from the start if you will attempt part B for bonus points or not.**\n"
   ]
  },
  {
   "cell_type": "markdown",
   "metadata": {},
   "source": [
    "## Brief\n",
    "Today you will be working on a blood cell data using an already existing network (transfer learning) to find the important parts of the blood cell and comparing the results to a more advanced model where you incorporate segmentation based on masks made by an expert in the field. \n",
    "\n",
    "## Story \n",
    "Your boss at BestEverLifeScienceCompany, or BELSC, was quite impressed with your latest work on the white blood cells and wants to pursue that as a potential software feature to sell with the new instrument the lab is developing. During a quick meeting you've tried explaining that if there's a new machine being developed you cannot guarantee that the model you develop now will work on the new data.\n",
    "\n",
    "Your boss still wants a better proof of concept on the data you do have from the old machine in order to convince the top bosses that this project is worth pursuing and your group should have a 2 day conference to team build with the lab this summer. Your BELSC boss would really like to go before the summer holiday, so your deadline is the 15th of May. \n",
    "\n",
    "Since you have explained earlier that determining what's actually important in an image isn't always easy for a neural network, the boss spoke to the lab and you've recieved masks made by experts. Your bosses boss have heard about a couple cool \"new\" networks, and so you'll have to show results from those networks wether you think they're a good idea or not. \n",
    "\n",
    "As you get the data you realise that this data looks nothing like your old data, so you decide to only train on this new dataset. \n",
    "\n",
    "Your boss has helpfully added a list of questions that need to be answered by your work in order for the project to be approved.\n",
    "\n",
    "Summer holidays are right around the corner, and you might go into it with all your work done.\n",
    "Good luck!\n"
   ]
  },
  {
   "cell_type": "markdown",
   "metadata": {},
   "source": [
    "# Tasks and questions\n",
    "T0: unzip your data and load it into your notebook. You do not have to show how you unzip your data in the notebook.\n",
    "\n",
    "T1: Make a neural network based on only the blood cell images as they are using a U-NET and a RESNET. You choose which versions.\n",
    "Q1: Which network performs the best?  \n",
    "\n",
    "T2: Try the same networks with the mask applied to the training and validation datasets.\n",
    "Hint: you can make a training generator and a validation generator and zip them together.  \n",
    "Q2: Did you get better results with or without the mask?   \n",
    "Q3: Did the same network perform better in T1 as in T2? Why? \n",
    "\n",
    "T3: Try improving your best network even further in atleast 3 ways to see if you get better result. \n",
    "Q4: Which things did you chose to change, to what and why?  \n",
    "Q5: Which of your 3 strategies worked? Explain why your strategies might not have worked if you did not see an improvement.  \n",
    "\n"
   ]
  },
  {
   "cell_type": "code",
   "execution_count": null,
   "metadata": {},
   "outputs": [],
   "source": []
  }
 ],
 "metadata": {
  "kernelspec": {
   "display_name": "Python 3 (ipykernel)",
   "language": "python",
   "name": "python3"
  },
  "language_info": {
   "codemirror_mode": {
    "name": "ipython",
    "version": 3
   },
   "file_extension": ".py",
   "mimetype": "text/x-python",
   "name": "python",
   "nbconvert_exporter": "python",
   "pygments_lexer": "ipython3",
   "version": "3.8.10"
  }
 },
 "nbformat": 4,
 "nbformat_minor": 4
}
