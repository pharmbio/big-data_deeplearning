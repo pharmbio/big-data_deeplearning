{
 "cells": [
  {
   "cell_type": "markdown",
   "metadata": {},
   "source": [
    "# Questions\n",
    "\n",
    "Hand in answers to all of the questions below as a pdf-document. One hand-in per group, the document *will* be checked against the other hand-ins for plagiarism. One bonus-point will be rewarded for the exam if you answer all questions satisfactorally, and hand in your solution before the deadline. The questions will be corrected after the deadline and there will be no second hand-in."
   ]
  },
  {
   "cell_type": "markdown",
   "metadata": {},
   "source": [
    "Q1: HCI"
   ]
  },
  {
   "cell_type": "markdown",
   "metadata": {},
   "source": [
    "Typically HCI involves multi parametric analysis of cells. Describe in few lines why this is an advantage over single point data, in which for instance one would only measure viability of cells."
   ]
  },
  {
   "cell_type": "markdown",
   "metadata": {},
   "source": [
    "Q2: Standard dataset  \n",
    "    In this course you have used the BBBC014. What is the benefit of evaluating your proposed method/architecture etc. on a standard data set? https://bbbc.broadinstitute.org/BBBC014"
   ]
  },
  {
   "cell_type": "markdown",
   "metadata": {},
   "source": [
    "Q3: GAN  \n",
    "    Describe how a GAN works\n",
    "    "
   ]
  },
  {
   "cell_type": "markdown",
   "metadata": {},
   "source": [
    "Q4: GAN\n",
    " \n",
    " Give a \"real world\" example of a GAN being used.\n",
    "    "
   ]
  },
  {
   "cell_type": "markdown",
   "metadata": {},
   "source": [
    "Q5: GAN\n",
    "\n",
    "If you were to use a GAN anywhere in the Life Sciences section where would you use it?"
   ]
  },
  {
   "cell_type": "markdown",
   "metadata": {},
   "source": [
    "Q6: U-net  \n",
    "What is a U-net?"
   ]
  },
  {
   "cell_type": "markdown",
   "metadata": {},
   "source": [
    "Q7: U-net  \n",
    "Why might a U-net be useful?"
   ]
  },
  {
   "cell_type": "markdown",
   "metadata": {},
   "source": [
    "Q8: Zebra-fish paper  \n",
    "    What is the size of the data used in Deep Fish: Deep Learning–Based Classification of Zebrafish Deformation for High-Throughput Screening by Ishaq, Sandanandan et.al ? https://journals.sagepub.com/doi/full/10.1177/1087057116667894 "
   ]
  },
  {
   "cell_type": "markdown",
   "metadata": {},
   "source": [
    "Q9: Zebra-fish paper   \n",
    "       What architecture did they use? Did they use transferlearning?"
   ]
  },
  {
   "cell_type": "markdown",
   "metadata": {},
   "source": [
    "Q10: Zebra-fish paper  \n",
    "     What did they do in order to ease concerns about what the neural network actually learns? What interesting thing did they find?"
   ]
  },
  {
   "cell_type": "markdown",
   "metadata": {},
   "source": [
    "Q11: Imaginary example - Drug families  \n",
    "    A colleague who works in a wetlab has come across an entirely new line of tumorcells which they have treated with 60 different drugs, each in 10 different doses, and they have done 2 replicas (i.e. they have run each drug/dose combination 2 times) with 3 positive and 3 negative controls per plate. They have imaged the cells using cellpainting, using the same process as in the BBBC021 dataset https://bbbc.broadinstitute.org/BBBC021. The 60 drugs/compounds come from 6 differend drug families. They want to know if this dataset is big enough for you to make a neural network to predict if a new drug belongs to one of the 6 drug families. Tell them your answer, with motivations.\n",
    "    \n",
    " Imagine that the dataset is something like this paper on the dataset BBBC021. This paper was written by our then master student Kensert. et.al  \"Transfer Learning with Deep Convolutional Neural Networks for Classifying Cellular Morphological Changes\" https://journals.sagepub.com/doi/full/10.1177/2472555218818756  "
   ]
  },
  {
   "cell_type": "markdown",
   "metadata": {},
   "source": [
    "Q12: Imaginary example - Drug families  \n",
    "    You have decided to try and make a neural network that predict these drug families from question 11. Describe what you want to do *before* you train your first network, i.e. for e.g. what image pre-processing do you want to do, and what architecture will you try first?"
   ]
  },
  {
   "cell_type": "markdown",
   "metadata": {},
   "source": [
    "Q13: Imaginary example - Drug families  \n",
    "Broadly speaking, there are two types of HCI assays :1) biology directed, and 2) unbiased\n",
    "profiling. Describe both approaches and why unbiased profiling might be an advantage over\n",
    "biology directed."
   ]
  },
  {
   "cell_type": "markdown",
   "metadata": {},
   "source": [
    "Q14: Imaginary example - Drug families  \n",
    "    Is the data in this example 1. biologically directed or 2. unbiased profiling? Motivate your answer"
   ]
  },
  {
   "cell_type": "code",
   "execution_count": null,
   "metadata": {},
   "outputs": [],
   "source": []
  }
 ],
 "metadata": {
  "kernelspec": {
   "display_name": "Python 3",
   "language": "python",
   "name": "python3"
  },
  "language_info": {
   "codemirror_mode": {
    "name": "ipython",
    "version": 3
   },
   "file_extension": ".py",
   "mimetype": "text/x-python",
   "name": "python",
   "nbconvert_exporter": "python",
   "pygments_lexer": "ipython3",
   "version": "3.6.9"
  }
 },
 "nbformat": 4,
 "nbformat_minor": 4
}
